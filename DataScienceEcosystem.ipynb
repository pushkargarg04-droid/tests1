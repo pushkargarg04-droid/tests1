{
 "cells": [
  {
   "cell_type": "markdown",
   "id": "118a63de-1334-4a71-b76e-8da5920e580c",
   "metadata": {},
   "source": [
    "# H1 : Data Science Tools And Ecosystem\n"
   ]
  },
  {
   "cell_type": "markdown",
   "id": "f691018c-104c-49f7-8135-a2b70008eeed",
   "metadata": {},
   "source": [
    "In this notebook, Data Science Tools and Ecosystem are summarized."
   ]
  },
  {
   "cell_type": "markdown",
   "id": "afc3b84d-d159-416b-ba9a-b9c8daf16a05",
   "metadata": {},
   "source": [
    "__Objectives:__\n",
    "*Languages used by data science\n",
    "*Library used by data science\n",
    "*Athmatic expression"
   ]
  },
  {
   "cell_type": "markdown",
   "id": "8a35bb95-0f01-43e2-af9e-d7b3072d7ef1",
   "metadata": {},
   "source": [
    "Some of the popular languages that Data Scientists use are:"
   ]
  },
  {
   "cell_type": "markdown",
   "id": "9a24908d-b665-479b-a5a6-5524d85ac4ae",
   "metadata": {},
   "source": [
    "1. Python\n",
    "2. R\n",
    "3. SQL\n",
    "4. Scala\n"
   ]
  },
  {
   "cell_type": "markdown",
   "id": "4aed85be-0962-4ddb-87c2-5f861a5ee8ec",
   "metadata": {},
   "source": [
    "Some of the commonly used libraries used by Data Scientists include:\n",
    "\n",
    "1. Panadas\n",
    "2. NumPy\n",
    "3. pyCharm\n",
    "4. GGplot2"
   ]
  },
  {
   "cell_type": "markdown",
   "id": "8eab2fe1-7752-42ea-a99a-cee87076cc1e",
   "metadata": {},
   "source": [
    "|Data Science Tools|\n",
    "|------------------:|\n",
    "|Apache Hadoop|\n",
    "|Apache Spark|\n",
    "|Apache Hive|"
   ]
  },
  {
   "cell_type": "markdown",
   "id": "2c221808-b400-4fea-8247-1a0a3ed05a45",
   "metadata": {},
   "source": [
    "### H3 : Below are a few examples of evaluating arithmetic expressions in Python"
   ]
  },
  {
   "cell_type": "markdown",
   "id": "ca1dcdc6-41c9-4ca9-a782-73aa43b90b9d",
   "metadata": {},
   "source": [
    "[](: \" This a simple arithmetic expression to mutiply then add integers\")"
   ]
  },
  {
   "cell_type": "code",
   "execution_count": 4,
   "id": "5f29851f-4ad0-45f4-9752-28b432724164",
   "metadata": {},
   "outputs": [
    {
     "data": {
      "text/plain": [
       "17"
      ]
     },
     "execution_count": 4,
     "metadata": {},
     "output_type": "execute_result"
    }
   ],
   "source": [
    "# This a simple arithmetic expression to mutiply then add integers\n",
    "(3*4)+5"
   ]
  },
  {
   "cell_type": "code",
   "execution_count": 9,
   "id": "437d9c5c-9438-41ab-b210-9db0f1578caf",
   "metadata": {},
   "outputs": [
    {
     "data": {
      "text/plain": [
       "3.3333333333333335"
      ]
     },
     "execution_count": 9,
     "metadata": {},
     "output_type": "execute_result"
    }
   ],
   "source": [
    "# This will convert 200 minutes to hours =\n",
    "200/60 "
   ]
  },
  {
   "cell_type": "markdown",
   "id": "4ef0bd10-f10c-4f93-9850-21c23e91de75",
   "metadata": {},
   "source": [
    "## H2 : Author:\n",
    "         Pushkar Garg"
   ]
  },
  {
   "cell_type": "code",
   "execution_count": null,
   "id": "d7166ce8-959e-47b3-bf49-c15806c87082",
   "metadata": {},
   "outputs": [],
   "source": []
  }
 ],
 "metadata": {
  "kernelspec": {
   "display_name": "Python 3 (ipykernel)",
   "language": "python",
   "name": "python3"
  },
  "language_info": {
   "codemirror_mode": {
    "name": "ipython",
    "version": 3
   },
   "file_extension": ".py",
   "mimetype": "text/x-python",
   "name": "python",
   "nbconvert_exporter": "python",
   "pygments_lexer": "ipython3",
   "version": "3.13.5"
  }
 },
 "nbformat": 4,
 "nbformat_minor": 5
}
